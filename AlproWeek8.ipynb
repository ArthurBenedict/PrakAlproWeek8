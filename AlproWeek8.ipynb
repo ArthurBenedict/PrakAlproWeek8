{
 "cells": [
  {
   "cell_type": "code",
   "execution_count": 4,
   "metadata": {},
   "outputs": [
    {
     "name": "stdout",
     "output_type": "stream",
     "text": [
      "Perbedaan di baris 1:\n",
      "File 1: GILAK\n",
      "File 2: LU\n",
      "Perbedaan di baris 2:\n",
      "File 1: GUA\n",
      "File 2: ORANGNYA\n",
      "Perbedaan di baris 3:\n",
      "File 1: KEREN\n",
      "File 2: ASIK\n"
     ]
    }
   ],
   "source": [
    "def perbedaan(FILE1,FILE2):\n",
    "    with open(FILE1, \"r\") as file1, open(FILE2, \"r\") as file2:\n",
    "        lines1 = file1.readlines()\n",
    "        lines2 = file2.readlines()\n",
    "\n",
    "    for i, (l1, l2) in enumerate(zip(lines1, lines2), start=1):\n",
    "        if l1.rstrip() != l2.rstrip():\n",
    "            print(f\"Perbedaan di baris {i}:\")\n",
    "            print(f\"File 1: {l1.rstrip()}\")\n",
    "            print(f\"File 2: {l2.rstrip()}\")\n",
    "\n",
    "FILE1 = input(\"Masukkan nama file pertama : \")\n",
    "FILE2 = input(\"Masukkan nama file kedua : \")\n",
    "perbedaan(FILE1,FILE2)"
   ]
  },
  {
   "cell_type": "code",
   "execution_count": 9,
   "metadata": {},
   "outputs": [
    {
     "name": "stdout",
     "output_type": "stream",
     "text": [
      "nama file =  soal.txt\n",
      "1+1 =\n"
     ]
    },
    {
     "name": "stdout",
     "output_type": "stream",
     "text": [
      "jawaban anda benar\n",
      "\n",
      "Bendera Indonesia ?\n",
      "jawaban anda salah\n",
      "\n",
      "Kota Gudeg adalah:\n",
      "jawaban anda benar\n",
      "\n",
      "Komponen PC untuk penyimpanan file adalah...\n",
      "jawaban anda benar\n",
      "\n",
      "50 * 20\n",
      "jawaban anda benar\n",
      "\n"
     ]
    }
   ],
   "source": [
    "namafile = \"soal.txt\"\n",
    "\n",
    "file = open(namafile, 'r')\n",
    "print ('nama file = ', namafile)\n",
    "\n",
    "for line in file:\n",
    "    pertanyaan, jawaban = line.strip().split('||')\n",
    "    pertanyaan = pertanyaan.strip()\n",
    "    jawaban = jawaban.strip()\n",
    "    print(pertanyaan)\n",
    "    jawabanpengguna = input ('jawaban anda = ').strip()\n",
    "    if jawabanpengguna.lower() == jawaban.lower():\n",
    "        print('jawaban anda benar')\n",
    "    else:\n",
    "        print('jawaban anda salah')\n",
    "    print()\n",
    "\n"
   ]
  }
 ],
 "metadata": {
  "kernelspec": {
   "display_name": "Python 3",
   "language": "python",
   "name": "python3"
  },
  "language_info": {
   "codemirror_mode": {
    "name": "ipython",
    "version": 3
   },
   "file_extension": ".py",
   "mimetype": "text/x-python",
   "name": "python",
   "nbconvert_exporter": "python",
   "pygments_lexer": "ipython3",
   "version": "3.12.0"
  }
 },
 "nbformat": 4,
 "nbformat_minor": 2
}
